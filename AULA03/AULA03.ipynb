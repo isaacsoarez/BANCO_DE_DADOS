{
 "cells": [
  {
   "cell_type": "code",
   "execution_count": 6,
   "metadata": {},
   "outputs": [
    {
     "name": "stdout",
     "output_type": "stream",
     "text": [
      "Conexão bem Sucedida\n"
     ]
    }
   ],
   "source": [
    "import pyodbc\n",
    "\n",
    "conexao = (\"Driver={SQLite3 ODBC Driver};\"\n",
    "        \"Server=localhost;\"\n",
    "        \"Database=salarios.sqlite\")\n",
    "\n",
    "conexao2 = pyodbc.connect(conexao)\n",
    "print(\"Conexão bem Sucedida\")\n",
    "\n",
    "cursor = conexao2.cursor()"
   ]
  },
  {
   "cell_type": "code",
   "execution_count": 18,
   "metadata": {},
   "outputs": [
    {
     "name": "stdout",
     "output_type": "stream",
     "text": [
      "(3, 'ALBERT PARDINI', 'CAPTAIN III (POLICE DEPARTMENT)', 212739.13, 106088.18, 16452.6, None, 335279.91, 335279.91, 2011, '', 'San Francisco', '')\n",
      "(('Id', <class 'int'>, None, 10, 10, 0, True), ('EmployeeName', <class 'str'>, None, 65536, 65536, 0, True), ('JobTitle', <class 'str'>, None, 65536, 65536, 0, True), ('BasePay', <class 'float'>, None, 54, 54, 0, True), ('OvertimePay', <class 'float'>, None, 54, 54, 0, True), ('OtherPay', <class 'float'>, None, 54, 54, 0, True), ('Benefits', <class 'float'>, None, 54, 54, 0, True), ('TotalPay', <class 'float'>, None, 54, 54, 0, True), ('TotalPayBenefits', <class 'float'>, None, 54, 54, 0, True), ('Year', <class 'int'>, None, 10, 10, 0, True), ('Notes', <class 'str'>, None, 65536, 65536, 0, True), ('Agency', <class 'str'>, None, 65536, 65536, 0, True), ('Status', <class 'str'>, None, 65536, 65536, 0, True))\n"
     ]
    }
   ],
   "source": [
    "cursor.execute(\"SELECT * FROM Salaries\")\n",
    "\n",
    "values = cursor.fetchall()\n",
    "print(values[2])\n",
    "\n",
    "descricao = cursor.description\n",
    "print(descricao)"
   ]
  },
  {
   "cell_type": "code",
   "execution_count": 15,
   "metadata": {},
   "outputs": [
    {
     "name": "stdout",
     "output_type": "stream",
     "text": [
      "(('Id', <class 'int'>, None, 10, 10, 0, True), ('EmployeeName', <class 'str'>, None, 65536, 65536, 0, True), ('JobTitle', <class 'str'>, None, 65536, 65536, 0, True), ('BasePay', <class 'float'>, None, 54, 54, 0, True), ('OvertimePay', <class 'float'>, None, 54, 54, 0, True), ('OtherPay', <class 'float'>, None, 54, 54, 0, True), ('Benefits', <class 'float'>, None, 54, 54, 0, True), ('TotalPay', <class 'float'>, None, 54, 54, 0, True), ('TotalPayBenefits', <class 'float'>, None, 54, 54, 0, True), ('Year', <class 'int'>, None, 10, 10, 0, True), ('Notes', <class 'str'>, None, 65536, 65536, 0, True), ('Agency', <class 'str'>, None, 65536, 65536, 0, True), ('Status', <class 'str'>, None, 65536, 65536, 0, True))\n"
     ]
    }
   ],
   "source": [
    "colunas = [tuple[0] for tupla in descricao]\n",
    "print(descricao)"
   ]
  },
  {
   "cell_type": "markdown",
   "metadata": {},
   "source": [
    "*UTILIZAÇÃO DO PANDAS PARA EXIBIÇÃO DE RESULTADOS*"
   ]
  },
  {
   "cell_type": "code",
   "execution_count": 20,
   "metadata": {},
   "outputs": [],
   "source": [
    "import pandas as pd"
   ]
  },
  {
   "cell_type": "markdown",
   "metadata": {},
   "source": [
    "*AGORA COLOCAREMOS AS INFORMAÇÕES DOS REGISTROS DE TABELA E APRESENTAREMOS*\n",
    "\n",
    "*ARMAZENANDO OS VALORES NA VARIAVEL tabela_clientes*"
   ]
  },
  {
   "cell_type": "code",
   "execution_count": 22,
   "metadata": {},
   "outputs": [
    {
     "name": "stdout",
     "output_type": "stream",
     "text": [
      "                   0                1     2      3      4  5     6\n",
      "0                 Id    <class 'int'>  None     10     10  0  True\n",
      "1       EmployeeName    <class 'str'>  None  65536  65536  0  True\n",
      "2           JobTitle    <class 'str'>  None  65536  65536  0  True\n",
      "3            BasePay  <class 'float'>  None     54     54  0  True\n",
      "4        OvertimePay  <class 'float'>  None     54     54  0  True\n",
      "5           OtherPay  <class 'float'>  None     54     54  0  True\n",
      "6           Benefits  <class 'float'>  None     54     54  0  True\n",
      "7           TotalPay  <class 'float'>  None     54     54  0  True\n",
      "8   TotalPayBenefits  <class 'float'>  None     54     54  0  True\n",
      "9               Year    <class 'int'>  None     10     10  0  True\n",
      "10             Notes    <class 'str'>  None  65536  65536  0  True\n",
      "11            Agency    <class 'str'>  None  65536  65536  0  True\n",
      "12            Status    <class 'str'>  None  65536  65536  0  True\n"
     ]
    }
   ],
   "source": [
    "tabela_salarios = pd.DataFrame.from_records(descricao)\n",
    "print(tabela_salarios)"
   ]
  }
 ],
 "metadata": {
  "kernelspec": {
   "display_name": "Python 3",
   "language": "python",
   "name": "python3"
  },
  "language_info": {
   "codemirror_mode": {
    "name": "ipython",
    "version": 3
   },
   "file_extension": ".py",
   "mimetype": "text/x-python",
   "name": "python",
   "nbconvert_exporter": "python",
   "pygments_lexer": "ipython3",
   "version": "3.11.4"
  }
 },
 "nbformat": 4,
 "nbformat_minor": 2
}
