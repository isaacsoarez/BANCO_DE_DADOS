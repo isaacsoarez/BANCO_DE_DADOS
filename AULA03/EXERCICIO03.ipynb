{
 "cells": [
  {
   "cell_type": "code",
   "execution_count": 5,
   "metadata": {},
   "outputs": [
    {
     "name": "stdout",
     "output_type": "stream",
     "text": [
      "Conexão Bem Sucedida\n"
     ]
    }
   ],
   "source": [
    "import pyodbc\n",
    "import pandas as pd\n",
    "\n",
    "conexao = (\"Driver={SQLite3 ODBC Driver};\"\n",
    "        \"Server=localhost;\"\n",
    "        \"Database=chinook.db\")\n",
    "\n",
    "conexao2 = pyodbc.connect(conexao)\n",
    "print(\"Conexão Bem Sucedida\")\n",
    "\n",
    "cursor = conexao2.cursor()"
   ]
  },
  {
   "cell_type": "markdown",
   "metadata": {},
   "source": [
    "*COMANDO PARA INSERIR DADOS NA TABELA*"
   ]
  },
  {
   "cell_type": "code",
   "execution_count": 6,
   "metadata": {},
   "outputs": [],
   "source": [
    "cursor.execute(\"\"\"\n",
    "     INSERT INTO albums (title, ArtistID)\n",
    "                    VALUES\n",
    "                      ('AC/DC', 3)  \n",
    "                    \"\"\")\n",
    "\n",
    "cursor.commit()\n",
    "cursor.close()\n"
   ]
  },
  {
   "cell_type": "code",
   "execution_count": 7,
   "metadata": {},
   "outputs": [],
   "source": [
    "conexao2.close()"
   ]
  }
 ],
 "metadata": {
  "kernelspec": {
   "display_name": "Python 3",
   "language": "python",
   "name": "python3"
  },
  "language_info": {
   "codemirror_mode": {
    "name": "ipython",
    "version": 3
   },
   "file_extension": ".py",
   "mimetype": "text/x-python",
   "name": "python",
   "nbconvert_exporter": "python",
   "pygments_lexer": "ipython3",
   "version": "3.11.4"
  }
 },
 "nbformat": 4,
 "nbformat_minor": 2
}
