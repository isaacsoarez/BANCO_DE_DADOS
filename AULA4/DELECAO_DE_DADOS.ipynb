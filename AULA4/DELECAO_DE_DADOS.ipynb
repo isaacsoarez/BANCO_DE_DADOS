{
 "cells": [
  {
   "cell_type": "code",
   "execution_count": 1,
   "metadata": {},
   "outputs": [
    {
     "name": "stdout",
     "output_type": "stream",
     "text": [
      "Conexão Bem Sucedida\n"
     ]
    }
   ],
   "source": [
    "import pyodbc\n",
    "import pandas as pd\n",
    "\n",
    "conexao = (\"Driver={SQLite3 ODBC Driver};\"\n",
    "        \"Server=localhost;\"\n",
    "        \"Database=chinook.db\")\n",
    "\n",
    "conexao2 = pyodbc.connect(conexao)\n",
    "print(\"Conexão Bem Sucedida\")\n",
    "\n",
    "cursor = conexao2.cursor()"
   ]
  },
  {
   "cell_type": "code",
   "execution_count": 13,
   "metadata": {},
   "outputs": [],
   "source": [
    "cursor.execute('''\n",
    "               DELETE FROM albums WHERE Title=\"Restless and Wild\"\n",
    "               ''')\n",
    "\n",
    "cursor.commit()"
   ]
  }
 ],
 "metadata": {
  "kernelspec": {
   "display_name": "Python 3",
   "language": "python",
   "name": "python3"
  },
  "language_info": {
   "codemirror_mode": {
    "name": "ipython",
    "version": 3
   },
   "file_extension": ".py",
   "mimetype": "text/x-python",
   "name": "python",
   "nbconvert_exporter": "python",
   "pygments_lexer": "ipython3",
   "version": "3.11.4"
  }
 },
 "nbformat": 4,
 "nbformat_minor": 2
}
