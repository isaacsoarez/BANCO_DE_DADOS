{
 "cells": [
  {
   "cell_type": "markdown",
   "metadata": {},
   "source": [
    "Importar a Biblioteca PYODBC"
   ]
  },
  {
   "cell_type": "code",
   "execution_count": 1,
   "metadata": {},
   "outputs": [],
   "source": [
    "import pyodbc "
   ]
  },
  {
   "cell_type": "code",
   "execution_count": 2,
   "metadata": {},
   "outputs": [
    {
     "name": "stdout",
     "output_type": "stream",
     "text": [
      "['SQL Server', 'SQLite3 ODBC Driver', 'SQLite ODBC Driver', 'SQLite ODBC (UTF-8) Driver']\n"
     ]
    }
   ],
   "source": [
    "print(pyodbc.drivers()) "
   ]
  },
  {
   "cell_type": "markdown",
   "metadata": {},
   "source": [
    "Conexão sem Usuário e Senha\n",
    "\n",
    "Dados = (\"Driver={Banco de Dados};\"\n",
    "            \"Sever=link ou localhost;\"\n",
    "            \"Database=Banco de Dados;\")"
   ]
  },
  {
   "cell_type": "markdown",
   "metadata": {},
   "source": [
    "Conectar o Banco de Dados com Usuário e Senha:\n",
    "\n",
    "Dados = (\"Driver={Banco de Dados};\"\n",
    "            \"Sever=link ou localhost;\"\n",
    "            \"Database=Banco de Dados;\"\n",
    "            \"UID=Usuário;\"\n",
    "            \"PWD=Senha;\")"
   ]
  },
  {
   "cell_type": "code",
   "execution_count": 3,
   "metadata": {},
   "outputs": [],
   "source": [
    "conexao = (\"Driver={SQLite3 ODBC Driver};\"\n",
    "           \"Server=localhost;\"\n",
    "           \"Database = salarios.sqlite;\")"
   ]
  },
  {
   "cell_type": "code",
   "execution_count": 4,
   "metadata": {},
   "outputs": [
    {
     "name": "stdout",
     "output_type": "stream",
     "text": [
      "Conexão bem Sucedida\n"
     ]
    }
   ],
   "source": [
    "conexao2 = pyodbc.connect(conexao)\n",
    "print(\"Conexão bem Sucedida\")"
   ]
  },
  {
   "cell_type": "markdown",
   "metadata": {},
   "source": [
    "Criar uma variável para armazenar os dados "
   ]
  },
  {
   "cell_type": "code",
   "execution_count": 5,
   "metadata": {},
   "outputs": [],
   "source": [
    "cursor = conexao2.cursor()"
   ]
  },
  {
   "cell_type": "markdown",
   "metadata": {},
   "source": [
    "Agore precisamos criar, com o PYODBC, o que ele chama de CURSOR, para que possamos EXECUTAR AS INTRUÇOES SQL."
   ]
  },
  {
   "cell_type": "markdown",
   "metadata": {},
   "source": [
    "CRUD = Realização de Consultas, Atualizações, Deleções e Inserções\n",
    "\n",
    "1ºSELECT (selecionar)"
   ]
  },
  {
   "cell_type": "code",
   "execution_count": 6,
   "metadata": {},
   "outputs": [
    {
     "ename": "Error",
     "evalue": "('HY000', '[HY000] no such table: Salaries (1) (1) (SQLExecDirectW)')",
     "output_type": "error",
     "traceback": [
      "\u001b[1;31m---------------------------------------------------------------------------\u001b[0m",
      "\u001b[1;31mError\u001b[0m                                     Traceback (most recent call last)",
      "Cell \u001b[1;32mIn[6], line 1\u001b[0m\n\u001b[1;32m----> 1\u001b[0m \u001b[43mcursor\u001b[49m\u001b[38;5;241;43m.\u001b[39;49m\u001b[43mexecute\u001b[49m\u001b[43m(\u001b[49m\u001b[38;5;124;43m\"\u001b[39;49m\u001b[38;5;124;43mSELECT * FROM Salaries\u001b[39;49m\u001b[38;5;124;43m\"\u001b[39;49m\u001b[43m)\u001b[49m\n\u001b[0;32m      3\u001b[0m values \u001b[38;5;241m=\u001b[39m cursor\u001b[38;5;241m.\u001b[39mfetchall()\n\u001b[0;32m      4\u001b[0m \u001b[38;5;28mprint\u001b[39m(values[\u001b[38;5;241m2\u001b[39m])\n",
      "\u001b[1;31mError\u001b[0m: ('HY000', '[HY000] no such table: Salaries (1) (1) (SQLExecDirectW)')"
     ]
    }
   ],
   "source": [
    "cursor.execute(\"SELECT * FROM Salaries\")\n",
    "\n",
    "values = cursor.fetchall()\n",
    "print(values[2])"
   ]
  }
 ],
 "metadata": {
  "kernelspec": {
   "display_name": "Python 3",
   "language": "python",
   "name": "python3"
  },
  "language_info": {
   "codemirror_mode": {
    "name": "ipython",
    "version": 3
   },
   "file_extension": ".py",
   "mimetype": "text/x-python",
   "name": "python",
   "nbconvert_exporter": "python",
   "pygments_lexer": "ipython3",
   "version": "3.11.4"
  }
 },
 "nbformat": 4,
 "nbformat_minor": 2
}
